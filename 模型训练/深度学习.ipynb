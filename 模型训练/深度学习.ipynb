{
 "cells": [
  {
   "cell_type": "code",
   "execution_count": 79,
   "id": "c534c5ef-28e3-4053-8ef0-b83c49ca8b8f",
   "metadata": {
    "tags": []
   },
   "outputs": [
    {
     "name": "stdout",
     "output_type": "stream",
     "text": [
      "   flower_id flower  适合送恋人  适合送长辈  适合送朋友  适合婚礼  适合葬礼  香气浓郁  花期长  红色  粉色  白色  \\\n",
      "0          1     玫瑰      1      0      1     1     0     1    1   1   1   1   \n",
      "1          2    郁金香      1      0      1     1     0     0    0   1   1   1   \n",
      "2          3     百合      1      1      1     1     0     1    1   1   1   1   \n",
      "3          4    康乃馨      0      1      1     0     0     1    1   1   1   1   \n",
      "4          5    向日葵      0      0      1     0     0     0    1   0   0   0   \n",
      "\n",
      "   黄色  紫色  蓝色       花语  \n",
      "0   1   1   0    爱情、浪漫  \n",
      "1   1   1   0  爱的宣言、真爱  \n",
      "2   1   1   0    纯洁、高贵  \n",
      "3   1   1   0    母爱、温馨  \n",
      "4   1   0   0    忠诚、阳光  \n"
     ]
    }
   ],
   "source": [
    "import pandas as pd\n",
    "\n",
    "# 读取鲜花特征数据\n",
    "data = pd.read_excel('flowers_data.xlsx')\n",
    "\n",
    "# 显示前几行数据\n",
    "print(data.head())"
   ]
  },
  {
   "cell_type": "code",
   "execution_count": 80,
   "id": "f497777d-c938-4de8-bcd3-be6ef5af9ee5",
   "metadata": {
    "tags": []
   },
   "outputs": [],
   "source": [
    "import os\n",
    "import shutil\n",
    "import random\n",
    "\n",
    "# 设置图像文件夹路径\n",
    "image_folder = 'images'\n",
    "\n",
    "# 创建训练集、验证集和测试集的文件夹\n",
    "os.makedirs('train', exist_ok=True)\n",
    "os.makedirs('val', exist_ok=True)\n",
    "os.makedirs('test', exist_ok=True)\n",
    "\n",
    "# 遍历每种花的文件夹\n",
    "for flower_dir in os.listdir(image_folder):\n",
    "    flower_path = os.path.join(image_folder, flower_dir)\n",
    "    if os.path.isdir(flower_path):\n",
    "        images = os.listdir(flower_path)\n",
    "        random.shuffle(images)\n",
    "        \n",
    "        # 划分图像\n",
    "        train_split = int(0.6 * len(images))\n",
    "        val_split = int(0.8 * len(images))\n",
    "        \n",
    "        train_images = images[:train_split]\n",
    "        val_images = images[train_split:val_split]\n",
    "        test_images = images[val_split:]\n",
    "        \n",
    "        # 创建目标目录\n",
    "        os.makedirs(os.path.join('train', flower_dir), exist_ok=True)\n",
    "        os.makedirs(os.path.join('val', flower_dir), exist_ok=True)\n",
    "        os.makedirs(os.path.join('test', flower_dir), exist_ok=True)\n",
    "        \n",
    "        # 复制图像到相应的文件夹\n",
    "        for img in train_images:\n",
    "            shutil.copy(os.path.join(flower_path, img), os.path.join('train', flower_dir, img))\n",
    "        for img in val_images:\n",
    "            shutil.copy(os.path.join(flower_path, img), os.path.join('val', flower_dir, img))\n",
    "        for img in test_images:\n",
    "            shutil.copy(os.path.join(flower_path, img), os.path.join('test', flower_dir, img))"
   ]
  },
  {
   "cell_type": "code",
   "execution_count": 82,
   "id": "7cf6485d-f814-4f22-b8e7-ad8677506cde",
   "metadata": {
    "tags": []
   },
   "outputs": [
    {
     "data": {
      "text/html": [
       "\n",
       "<style>\n",
       "    /* Turns off some styling */\n",
       "    progress {\n",
       "        /* gets rid of default border in Firefox and Opera. */\n",
       "        border: none;\n",
       "        /* Needs to be in here for Safari polyfill so background images work as expected. */\n",
       "        background-size: auto;\n",
       "    }\n",
       "    progress:not([value]), progress:not([value])::-webkit-progress-bar {\n",
       "        background: repeating-linear-gradient(45deg, #7e7e7e, #7e7e7e 10px, #5c5c5c 10px, #5c5c5c 20px);\n",
       "    }\n",
       "    .progress-bar-interrupted, .progress-bar-interrupted::-webkit-progress-bar {\n",
       "        background: #F44336;\n",
       "    }\n",
       "</style>\n"
      ],
      "text/plain": [
       "<IPython.core.display.HTML object>"
      ]
     },
     "metadata": {},
     "output_type": "display_data"
    },
    {
     "data": {
      "text/html": [
       "<table border=\"1\" class=\"dataframe\">\n",
       "  <thead>\n",
       "    <tr style=\"text-align: left;\">\n",
       "      <th>epoch</th>\n",
       "      <th>train_loss</th>\n",
       "      <th>valid_loss</th>\n",
       "      <th>accuracy</th>\n",
       "      <th>time</th>\n",
       "    </tr>\n",
       "  </thead>\n",
       "  <tbody>\n",
       "    <tr>\n",
       "      <td>0</td>\n",
       "      <td>4.408186</td>\n",
       "      <td>2.973871</td>\n",
       "      <td>0.163441</td>\n",
       "      <td>01:08</td>\n",
       "    </tr>\n",
       "    <tr>\n",
       "      <td>1</td>\n",
       "      <td>3.716406</td>\n",
       "      <td>1.056412</td>\n",
       "      <td>0.731183</td>\n",
       "      <td>01:10</td>\n",
       "    </tr>\n",
       "    <tr>\n",
       "      <td>2</td>\n",
       "      <td>2.742634</td>\n",
       "      <td>0.424706</td>\n",
       "      <td>0.881720</td>\n",
       "      <td>01:09</td>\n",
       "    </tr>\n",
       "    <tr>\n",
       "      <td>3</td>\n",
       "      <td>2.062838</td>\n",
       "      <td>0.242536</td>\n",
       "      <td>0.926882</td>\n",
       "      <td>01:09</td>\n",
       "    </tr>\n",
       "    <tr>\n",
       "      <td>4</td>\n",
       "      <td>1.573848</td>\n",
       "      <td>0.161385</td>\n",
       "      <td>0.946237</td>\n",
       "      <td>01:07</td>\n",
       "    </tr>\n",
       "    <tr>\n",
       "      <td>5</td>\n",
       "      <td>1.233044</td>\n",
       "      <td>0.118817</td>\n",
       "      <td>0.969893</td>\n",
       "      <td>01:07</td>\n",
       "    </tr>\n",
       "    <tr>\n",
       "      <td>6</td>\n",
       "      <td>0.987560</td>\n",
       "      <td>0.095524</td>\n",
       "      <td>0.980645</td>\n",
       "      <td>01:08</td>\n",
       "    </tr>\n",
       "    <tr>\n",
       "      <td>7</td>\n",
       "      <td>0.806732</td>\n",
       "      <td>0.085590</td>\n",
       "      <td>0.984946</td>\n",
       "      <td>01:08</td>\n",
       "    </tr>\n",
       "    <tr>\n",
       "      <td>8</td>\n",
       "      <td>0.672693</td>\n",
       "      <td>0.082133</td>\n",
       "      <td>0.984946</td>\n",
       "      <td>01:07</td>\n",
       "    </tr>\n",
       "    <tr>\n",
       "      <td>9</td>\n",
       "      <td>0.574715</td>\n",
       "      <td>0.080790</td>\n",
       "      <td>0.984946</td>\n",
       "      <td>01:07</td>\n",
       "    </tr>\n",
       "  </tbody>\n",
       "</table>"
      ],
      "text/plain": [
       "<IPython.core.display.HTML object>"
      ]
     },
     "metadata": {},
     "output_type": "display_data"
    },
    {
     "data": {
      "text/html": [
       "\n",
       "<style>\n",
       "    /* Turns off some styling */\n",
       "    progress {\n",
       "        /* gets rid of default border in Firefox and Opera. */\n",
       "        border: none;\n",
       "        /* Needs to be in here for Safari polyfill so background images work as expected. */\n",
       "        background-size: auto;\n",
       "    }\n",
       "    progress:not([value]), progress:not([value])::-webkit-progress-bar {\n",
       "        background: repeating-linear-gradient(45deg, #7e7e7e, #7e7e7e 10px, #5c5c5c 10px, #5c5c5c 20px);\n",
       "    }\n",
       "    .progress-bar-interrupted, .progress-bar-interrupted::-webkit-progress-bar {\n",
       "        background: #F44336;\n",
       "    }\n",
       "</style>\n"
      ],
      "text/plain": [
       "<IPython.core.display.HTML object>"
      ]
     },
     "metadata": {},
     "output_type": "display_data"
    },
    {
     "data": {
      "text/html": [],
      "text/plain": [
       "<IPython.core.display.HTML object>"
      ]
     },
     "metadata": {},
     "output_type": "display_data"
    },
    {
     "name": "stdout",
     "output_type": "stream",
     "text": [
      "训练后的准确度: 0.98\n"
     ]
    }
   ],
   "source": [
    "from fastai.vision.all import *\n",
    "\n",
    "# 创建DataLoaders\n",
    "dls = ImageDataLoaders.from_folder(path='.', train='train', valid='val', test='test', item_tfms=Resize(224))\n",
    "\n",
    "# 创建模型\n",
    "learn = cnn_learner(dls, resnet34, metrics=accuracy)\n",
    "\n",
    "# 设置早停机制\n",
    "early_stop = EarlyStoppingCallback(patience=3)\n",
    "\n",
    "# 添加回调函数\n",
    "learn.add_cb(early_stop)\n",
    "\n",
    "# 训练模型\n",
    "learn.fit_one_cycle(10)\n",
    "\n",
    "# 保存模型\n",
    "learn.export('flower_recognition_model.pkl')\n",
    "# 打印训练后的准确度\n",
    "val_accuracy = learn.validate()[1]\n",
    "print(f'训练后的准确度: {val_accuracy:.2f}')"
   ]
  },
  {
   "cell_type": "code",
   "execution_count": 83,
   "id": "c038feec-041a-4599-ad2e-d2900fc43a0d",
   "metadata": {
    "tags": []
   },
   "outputs": [
    {
     "data": {
      "text/html": [
       "\n",
       "<style>\n",
       "    /* Turns off some styling */\n",
       "    progress {\n",
       "        /* gets rid of default border in Firefox and Opera. */\n",
       "        border: none;\n",
       "        /* Needs to be in here for Safari polyfill so background images work as expected. */\n",
       "        background-size: auto;\n",
       "    }\n",
       "    progress:not([value]), progress:not([value])::-webkit-progress-bar {\n",
       "        background: repeating-linear-gradient(45deg, #7e7e7e, #7e7e7e 10px, #5c5c5c 10px, #5c5c5c 20px);\n",
       "    }\n",
       "    .progress-bar-interrupted, .progress-bar-interrupted::-webkit-progress-bar {\n",
       "        background: #F44336;\n",
       "    }\n",
       "</style>\n"
      ],
      "text/plain": [
       "<IPython.core.display.HTML object>"
      ]
     },
     "metadata": {},
     "output_type": "display_data"
    },
    {
     "data": {
      "text/html": [],
      "text/plain": [
       "<IPython.core.display.HTML object>"
      ]
     },
     "metadata": {},
     "output_type": "display_data"
    }
   ],
   "source": [
    "# 使用测试集进行测试\n",
    "test_dl = learn.dls.test_dl(get_image_files('test'))\n",
    "preds, _, pred_labels = learn.get_preds(dl=test_dl, with_decoded=True)"
   ]
  },
  {
   "cell_type": "code",
   "execution_count": 84,
   "id": "bbeb8319-348d-431e-b45b-1d7a687e4dd0",
   "metadata": {
    "tags": []
   },
   "outputs": [
    {
     "name": "stdout",
     "output_type": "stream",
     "text": [
      "测试集准确度: 1.00\n"
     ]
    }
   ],
   "source": [
    "# 计算测试集准确度\n",
    "test_accuracy = accuracy(preds, pred_labels)\n",
    "test_accuracy_value = test_accuracy.item()  # 转换为标量值\n",
    "print(f'测试集准确度: {test_accuracy_value:.2f}')"
   ]
  },
  {
   "cell_type": "code",
   "execution_count": 86,
   "id": "4c9c203a-0e66-4c86-a486-ca81dd48f40d",
   "metadata": {
    "tags": []
   },
   "outputs": [
    {
     "name": "stderr",
     "output_type": "stream",
     "text": [
      "C:\\Users\\ROG\\AppData\\Local\\Temp\\ipykernel_36656\\1496503057.py:7: FutureWarning: Dropping of nuisance columns in DataFrame reductions (with 'numeric_only=None') is deprecated; in a future version this will raise TypeError.  Select only valid columns before calling the reduction.\n",
      "  data['match_score'] = data.iloc[:, 2:].sum(axis=1)\n"
     ]
    }
   ],
   "source": [
    "# 特征选择模块\n",
    "import pickle\n",
    "\n",
    "# 特征选择函数\n",
    "def recommend_flowers(features, data):\n",
    "    # 计算匹配度\n",
    "    data['match_score'] = data.iloc[:, 2:].sum(axis=1)\n",
    "    # 按匹配度排序\n",
    "    sorted_data = data.sort_values(by='match_score', ascending=False)\n",
    "    return sorted_data\n",
    "\n",
    "# 示例特征选择\n",
    "selected_features = {\n",
    "    '适合送恋人': 1,\n",
    "    '适合送长辈': 0,\n",
    "    '适合送朋友': 1,\n",
    "    # 其他特征...\n",
    "}\n",
    "\n",
    "# 推荐鲜花\n",
    "recommended_flowers = recommend_flowers(selected_features, data)\n",
    "\n",
    "# 保存推荐结果\n",
    "with open('recommended_flowers.pkl', 'wb') as f:\n",
    "    pickle.dump(recommended_flowers, f)\n"
   ]
  },
  {
   "cell_type": "code",
   "execution_count": null,
   "id": "5467715d-d05f-4c71-ac94-aa7a5d0d0eeb",
   "metadata": {},
   "outputs": [],
   "source": []
  }
 ],
 "metadata": {
  "kernelspec": {
   "display_name": "Python 3 (ipykernel)",
   "language": "python",
   "name": "python3"
  },
  "language_info": {
   "codemirror_mode": {
    "name": "ipython",
    "version": 3
   },
   "file_extension": ".py",
   "mimetype": "text/x-python",
   "name": "python",
   "nbconvert_exporter": "python",
   "pygments_lexer": "ipython3",
   "version": "3.11.4"
  }
 },
 "nbformat": 4,
 "nbformat_minor": 5
}
